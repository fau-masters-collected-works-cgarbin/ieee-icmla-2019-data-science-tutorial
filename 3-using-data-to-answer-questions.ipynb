{
 "cells": [
  {
   "cell_type": "markdown",
   "metadata": {},
   "source": [
    "[IEEE ICMLA 2019](https://www.icmla-conference.org/icmla19/)\n",
    "\n",
    "[The Data Science landscape: foundations, tools, and practical applications](https://www.icmla-conference.org/icmla19/links/tutorialAM.htm)"
   ]
  },
  {
   "cell_type": "markdown",
   "metadata": {},
   "source": [
    "# Using data to answer questions"
   ]
  },
  {
   "cell_type": "markdown",
   "metadata": {},
   "source": [
    "In this part, we will look at the correlation between female literacy and fertility (defined as the average number of children born per woman) throughout the world. For ease of analysis and interpretation, we will work with the illiteracy rate.\n",
    "\n",
    "This dataset comes from [DataCamp's Statistical Thinking in Python, part 2](https://campus.datacamp.com/courses/statistical-thinking-in-python-part-2/parameter-estimation-by-optimization?ex=6).\n",
    "\n",
    "Our objective is to check if this hypothesis is correct:\n",
    "\n",
    "> There is a positive correlation between illiteracy and fertility, i.e. the higher the illiteracy rate, the higher the average number of children born per woman is\n",
    "\n",
    "We will use [_statistical hypothesis test_](https://en.wikipedia.org/wiki/Statistical_hypothesis_testing) for that:\n",
    "\n",
    "1. Load and inspect the dataset\n",
    "1. Prepare the data\n",
    "1. Check if a correlation exists\n",
    "1. Test if the correlation is not by chance, i.e. that the hypothesis is correct"
   ]
  },
  {
   "cell_type": "markdown",
   "metadata": {},
   "source": [
    "# 1. Loading and inspecting the dataset"
   ]
  },
  {
   "cell_type": "code",
   "execution_count": 1,
   "metadata": {},
   "outputs": [],
   "source": [
    "import pandas as pd\n",
    "\n",
    "df = pd.read_csv('data/female_literacy_fertility.csv')"
   ]
  },
  {
   "cell_type": "code",
   "execution_count": 2,
   "metadata": {},
   "outputs": [
    {
     "data": {
      "text/plain": [
       "(162, 5)"
      ]
     },
     "execution_count": 2,
     "metadata": {},
     "output_type": "execute_result"
    }
   ],
   "source": [
    "df.shape"
   ]
  },
  {
   "cell_type": "code",
   "execution_count": 3,
   "metadata": {},
   "outputs": [
    {
     "data": {
      "text/plain": [
       "Index(['Country', 'Continent', 'female literacy', 'fertility', 'population'], dtype='object')"
      ]
     },
     "execution_count": 3,
     "metadata": {},
     "output_type": "execute_result"
    }
   ],
   "source": [
    "df.columns"
   ]
  },
  {
   "cell_type": "code",
   "execution_count": 4,
   "metadata": {},
   "outputs": [
    {
     "data": {
      "text/html": [
       "<div>\n",
       "<style scoped>\n",
       "    .dataframe tbody tr th:only-of-type {\n",
       "        vertical-align: middle;\n",
       "    }\n",
       "\n",
       "    .dataframe tbody tr th {\n",
       "        vertical-align: top;\n",
       "    }\n",
       "\n",
       "    .dataframe thead th {\n",
       "        text-align: right;\n",
       "    }\n",
       "</style>\n",
       "<table border=\"1\" class=\"dataframe\">\n",
       "  <thead>\n",
       "    <tr style=\"text-align: right;\">\n",
       "      <th></th>\n",
       "      <th>Country</th>\n",
       "      <th>Continent</th>\n",
       "      <th>female literacy</th>\n",
       "      <th>fertility</th>\n",
       "      <th>population</th>\n",
       "    </tr>\n",
       "  </thead>\n",
       "  <tbody>\n",
       "    <tr>\n",
       "      <th>0</th>\n",
       "      <td>Chine</td>\n",
       "      <td>ASI</td>\n",
       "      <td>90.5</td>\n",
       "      <td>1.769</td>\n",
       "      <td>1,324,655,000</td>\n",
       "    </tr>\n",
       "    <tr>\n",
       "      <th>1</th>\n",
       "      <td>Inde</td>\n",
       "      <td>ASI</td>\n",
       "      <td>50.8</td>\n",
       "      <td>2.682</td>\n",
       "      <td>1,139,964,932</td>\n",
       "    </tr>\n",
       "    <tr>\n",
       "      <th>2</th>\n",
       "      <td>USA</td>\n",
       "      <td>NAM</td>\n",
       "      <td>99.0</td>\n",
       "      <td>2.077</td>\n",
       "      <td>304,060,000</td>\n",
       "    </tr>\n",
       "    <tr>\n",
       "      <th>3</th>\n",
       "      <td>Indonésie</td>\n",
       "      <td>ASI</td>\n",
       "      <td>88.8</td>\n",
       "      <td>2.132</td>\n",
       "      <td>227,345,082</td>\n",
       "    </tr>\n",
       "    <tr>\n",
       "      <th>4</th>\n",
       "      <td>Brésil</td>\n",
       "      <td>LAT</td>\n",
       "      <td>90.2</td>\n",
       "      <td>1.827</td>\n",
       "      <td>191,971,506</td>\n",
       "    </tr>\n",
       "  </tbody>\n",
       "</table>\n",
       "</div>"
      ],
      "text/plain": [
       "     Country Continent  female literacy  fertility     population\n",
       "0      Chine       ASI             90.5      1.769  1,324,655,000\n",
       "1       Inde       ASI             50.8      2.682  1,139,964,932\n",
       "2        USA       NAM             99.0      2.077    304,060,000\n",
       "3  Indonésie       ASI             88.8      2.132    227,345,082\n",
       "4     Brésil       LAT             90.2      1.827    191,971,506"
      ]
     },
     "execution_count": 4,
     "metadata": {},
     "output_type": "execute_result"
    }
   ],
   "source": [
    "df.head()"
   ]
  },
  {
   "cell_type": "code",
   "execution_count": 5,
   "metadata": {},
   "outputs": [
    {
     "data": {
      "text/html": [
       "<div>\n",
       "<style scoped>\n",
       "    .dataframe tbody tr th:only-of-type {\n",
       "        vertical-align: middle;\n",
       "    }\n",
       "\n",
       "    .dataframe tbody tr th {\n",
       "        vertical-align: top;\n",
       "    }\n",
       "\n",
       "    .dataframe thead th {\n",
       "        text-align: right;\n",
       "    }\n",
       "</style>\n",
       "<table border=\"1\" class=\"dataframe\">\n",
       "  <thead>\n",
       "    <tr style=\"text-align: right;\">\n",
       "      <th></th>\n",
       "      <th>female literacy</th>\n",
       "      <th>fertility</th>\n",
       "    </tr>\n",
       "  </thead>\n",
       "  <tbody>\n",
       "    <tr>\n",
       "      <th>count</th>\n",
       "      <td>162.000000</td>\n",
       "      <td>162.000000</td>\n",
       "    </tr>\n",
       "    <tr>\n",
       "      <th>mean</th>\n",
       "      <td>80.107407</td>\n",
       "      <td>2.878673</td>\n",
       "    </tr>\n",
       "    <tr>\n",
       "      <th>std</th>\n",
       "      <td>23.052415</td>\n",
       "      <td>1.427597</td>\n",
       "    </tr>\n",
       "    <tr>\n",
       "      <th>min</th>\n",
       "      <td>12.600000</td>\n",
       "      <td>0.966000</td>\n",
       "    </tr>\n",
       "    <tr>\n",
       "      <th>25%</th>\n",
       "      <td>66.425000</td>\n",
       "      <td>1.823250</td>\n",
       "    </tr>\n",
       "    <tr>\n",
       "      <th>50%</th>\n",
       "      <td>90.000000</td>\n",
       "      <td>2.367500</td>\n",
       "    </tr>\n",
       "    <tr>\n",
       "      <th>75%</th>\n",
       "      <td>98.500000</td>\n",
       "      <td>3.880250</td>\n",
       "    </tr>\n",
       "    <tr>\n",
       "      <th>max</th>\n",
       "      <td>100.000000</td>\n",
       "      <td>7.069000</td>\n",
       "    </tr>\n",
       "  </tbody>\n",
       "</table>\n",
       "</div>"
      ],
      "text/plain": [
       "       female literacy   fertility\n",
       "count       162.000000  162.000000\n",
       "mean         80.107407    2.878673\n",
       "std          23.052415    1.427597\n",
       "min          12.600000    0.966000\n",
       "25%          66.425000    1.823250\n",
       "50%          90.000000    2.367500\n",
       "75%          98.500000    3.880250\n",
       "max         100.000000    7.069000"
      ]
     },
     "execution_count": 5,
     "metadata": {},
     "output_type": "execute_result"
    }
   ],
   "source": [
    "df.describe()"
   ]
  },
  {
   "cell_type": "code",
   "execution_count": 6,
   "metadata": {},
   "outputs": [
    {
     "name": "stdout",
     "output_type": "stream",
     "text": [
      "<class 'pandas.core.frame.DataFrame'>\n",
      "RangeIndex: 162 entries, 0 to 161\n",
      "Data columns (total 5 columns):\n",
      "Country            162 non-null object\n",
      "Continent          162 non-null object\n",
      "female literacy    162 non-null float64\n",
      "fertility          162 non-null float64\n",
      "population         162 non-null object\n",
      "dtypes: float64(2), object(3)\n",
      "memory usage: 6.5+ KB\n"
     ]
    }
   ],
   "source": [
    "df.info()"
   ]
  },
  {
   "cell_type": "markdown",
   "metadata": {},
   "source": [
    "By inspecting the dataset, we found out that:\n",
    "    \n",
    "1. It has 162 entries (`shape`).\n",
    "1. Each entry seems to represent one country (`head()`). We will check this assumption soon.\n",
    "1. Each entry has the female literacy rate and average fertility (children born per woman) for that country, plus other fields we are not interested in (`head()` again).\n",
    "1. There are some low literacy rates (`describe()`). We will check this too soon.\n",
    "1. The fertility rates seem reasonable (also from `describe()`).\n",
    "1. There are no missing values in any row or column (`info()`).\n",
    "1. The representation of each column (number or string) seems correct (also from `info()`)."
   ]
  },
  {
   "cell_type": "markdown",
   "metadata": {},
   "source": [
    "Let's check the assumption we made in item 2, that there is one entry per country."
   ]
  },
  {
   "cell_type": "code",
   "execution_count": 7,
   "metadata": {},
   "outputs": [
    {
     "name": "stdout",
     "output_type": "stream",
     "text": [
      "162\n"
     ]
    }
   ],
   "source": [
    "print(df.Country.nunique())"
   ]
  },
  {
   "cell_type": "markdown",
   "metadata": {},
   "source": [
    "There are 162 unique countries names, matching the number of rows in the dataset. Therefore, each row is a unique country."
   ]
  },
  {
   "cell_type": "markdown",
   "metadata": {},
   "source": [
    "Now let's check the countries with suspiciously low literacy rate."
   ]
  },
  {
   "cell_type": "code",
   "execution_count": 8,
   "metadata": {},
   "outputs": [
    {
     "data": {
      "text/html": [
       "<div>\n",
       "<style scoped>\n",
       "    .dataframe tbody tr th:only-of-type {\n",
       "        vertical-align: middle;\n",
       "    }\n",
       "\n",
       "    .dataframe tbody tr th {\n",
       "        vertical-align: top;\n",
       "    }\n",
       "\n",
       "    .dataframe thead th {\n",
       "        text-align: right;\n",
       "    }\n",
       "</style>\n",
       "<table border=\"1\" class=\"dataframe\">\n",
       "  <thead>\n",
       "    <tr style=\"text-align: right;\">\n",
       "      <th></th>\n",
       "      <th>Country</th>\n",
       "      <th>Continent</th>\n",
       "      <th>female literacy</th>\n",
       "      <th>fertility</th>\n",
       "      <th>population</th>\n",
       "    </tr>\n",
       "  </thead>\n",
       "  <tbody>\n",
       "    <tr>\n",
       "      <th>15</th>\n",
       "      <td>Ethiopie</td>\n",
       "      <td>AF</td>\n",
       "      <td>22.8</td>\n",
       "      <td>5.211</td>\n",
       "      <td>80,713,434</td>\n",
       "    </tr>\n",
       "    <tr>\n",
       "      <th>39</th>\n",
       "      <td>Afghanistan</td>\n",
       "      <td>ASI</td>\n",
       "      <td>12.6</td>\n",
       "      <td>6.505</td>\n",
       "      <td>29,021,099</td>\n",
       "    </tr>\n",
       "    <tr>\n",
       "      <th>60</th>\n",
       "      <td>Burkina Faso</td>\n",
       "      <td>AF</td>\n",
       "      <td>21.6</td>\n",
       "      <td>5.841</td>\n",
       "      <td>15,233,884</td>\n",
       "    </tr>\n",
       "    <tr>\n",
       "      <th>62</th>\n",
       "      <td>Niger</td>\n",
       "      <td>AF</td>\n",
       "      <td>15.1</td>\n",
       "      <td>7.069</td>\n",
       "      <td>14,704,318</td>\n",
       "    </tr>\n",
       "    <tr>\n",
       "      <th>66</th>\n",
       "      <td>Mali</td>\n",
       "      <td>AF</td>\n",
       "      <td>18.2</td>\n",
       "      <td>5.405</td>\n",
       "      <td>12,705,736</td>\n",
       "    </tr>\n",
       "    <tr>\n",
       "      <th>72</th>\n",
       "      <td>Tchad</td>\n",
       "      <td>AF</td>\n",
       "      <td>21.9</td>\n",
       "      <td>6.081</td>\n",
       "      <td>10,913,667</td>\n",
       "    </tr>\n",
       "    <tr>\n",
       "      <th>79</th>\n",
       "      <td>Guinée</td>\n",
       "      <td>AF</td>\n",
       "      <td>26.4</td>\n",
       "      <td>5.329</td>\n",
       "      <td>9,833,055</td>\n",
       "    </tr>\n",
       "    <tr>\n",
       "      <th>85</th>\n",
       "      <td>Bénin</td>\n",
       "      <td>AF</td>\n",
       "      <td>28.1</td>\n",
       "      <td>5.378</td>\n",
       "      <td>8,662,086</td>\n",
       "    </tr>\n",
       "    <tr>\n",
       "      <th>101</th>\n",
       "      <td>Sierra Leone</td>\n",
       "      <td>AF</td>\n",
       "      <td>28.9</td>\n",
       "      <td>5.165</td>\n",
       "      <td>5,559,853</td>\n",
       "    </tr>\n",
       "  </tbody>\n",
       "</table>\n",
       "</div>"
      ],
      "text/plain": [
       "          Country Continent  female literacy  fertility  population\n",
       "15       Ethiopie        AF             22.8      5.211  80,713,434\n",
       "39    Afghanistan       ASI             12.6      6.505  29,021,099\n",
       "60   Burkina Faso        AF             21.6      5.841  15,233,884\n",
       "62          Niger        AF             15.1      7.069  14,704,318\n",
       "66           Mali        AF             18.2      5.405  12,705,736\n",
       "72          Tchad        AF             21.9      6.081  10,913,667\n",
       "79         Guinée        AF             26.4      5.329   9,833,055\n",
       "85          Bénin        AF             28.1      5.378   8,662,086\n",
       "101  Sierra Leone        AF             28.9      5.165   5,559,853"
      ]
     },
     "metadata": {},
     "output_type": "display_data"
    }
   ],
   "source": [
    "display(df[df['female literacy'] <= 30])"
   ]
  },
  {
   "cell_type": "markdown",
   "metadata": {},
   "source": [
    "These countries are the ones we would expect to have low literacy. The values also match the [World Bank's female literacy dataset, around 2010](https://data.worldbank.org/indicator/SE.ADT.LITR.FE.ZS?end=2010&start=1970)."
   ]
  },
  {
   "cell_type": "markdown",
   "metadata": {},
   "source": [
    "At this point we understand and trust our data. We can move on to preparing the data, checking for a correlation and testing the hypothesis that the correlation is not by chance."
   ]
  },
  {
   "cell_type": "markdown",
   "metadata": {},
   "source": [
    "## 2. Preparing the data"
   ]
  },
  {
   "cell_type": "markdown",
   "metadata": {},
   "source": [
    "This the statement we want to verify (copied from the first section):\n",
    "\n",
    "> There is a positive correlation between illiteracy and fertility, i.e. the higher the illiteracy rate, the higher the average number of children born per woman is"
   ]
  },
  {
   "cell_type": "markdown",
   "metadata": {},
   "source": [
    "We do not need the complete dataset to test the hypothesis. We just need the literacy rate and the fertility number. We will split them out of the dataset.\n",
    "\n",
    "Since the hypothesis is phrased in terms of _illiteracy_ and the dataset has _literacy_, we will also change the literacy rate to illiteracy rate. This makes writing the code a bit more natural (we don't have to think in terms of a reverse relationship all the time), preventing possible bugs (good data representation reduces [extraneous cognitive load](https://en.wikipedia.org/wiki/Cognitive_load)).\n",
    "\n",
    "Also, when we present the results to the stakeholders, or even review in details how we got there, the graphs and code will match more closely how the stakeholders phrase (and frame) the statement."
   ]
  },
  {
   "cell_type": "code",
   "execution_count": 9,
   "metadata": {},
   "outputs": [],
   "source": [
    "fertility = df['fertility']\n",
    "illiteracy = 100 - df['female literacy']"
   ]
  },
  {
   "cell_type": "code",
   "execution_count": 10,
   "metadata": {},
   "outputs": [
    {
     "name": "stdout",
     "output_type": "stream",
     "text": [
      "0    1.769\n",
      "1    2.682\n",
      "2    2.077\n",
      "3    2.132\n",
      "4    1.827\n",
      "Name: fertility, dtype: float64\n"
     ]
    }
   ],
   "source": [
    "print(fertility.head())"
   ]
  },
  {
   "cell_type": "code",
   "execution_count": 11,
   "metadata": {},
   "outputs": [
    {
     "name": "stdout",
     "output_type": "stream",
     "text": [
      "0     9.5\n",
      "1    49.2\n",
      "2     1.0\n",
      "3    11.2\n",
      "4     9.8\n",
      "Name: female literacy, dtype: float64\n"
     ]
    }
   ],
   "source": [
    "print(illiteracy.head())"
   ]
  },
  {
   "cell_type": "markdown",
   "metadata": {},
   "source": [
    "One last adjustment: the series name is still set to `female literacy`, from the original column name. Let's fix that."
   ]
  },
  {
   "cell_type": "code",
   "execution_count": 12,
   "metadata": {},
   "outputs": [
    {
     "data": {
      "text/plain": [
       "0     9.5\n",
       "1    49.2\n",
       "2     1.0\n",
       "3    11.2\n",
       "4     9.8\n",
       "Name: % illiterate, dtype: float64"
      ]
     },
     "execution_count": 12,
     "metadata": {},
     "output_type": "execute_result"
    }
   ],
   "source": [
    "illiteracy.name = '% illiterate'\n",
    "illiteracy.head()"
   ]
  },
  {
   "cell_type": "markdown",
   "metadata": {},
   "source": [
    "## 3. Checking if a correlation exists"
   ]
  },
  {
   "cell_type": "markdown",
   "metadata": {},
   "source": [
    "Before setting out to test the hypothesis, we need to check if a correlation exists in the first place.\n",
    "\n",
    "We will do it in two ways: a visual inspection first, then a formal measurement of correlation."
   ]
  },
  {
   "cell_type": "markdown",
   "metadata": {},
   "source": [
    "### Visualizing a (possible) correlation"
   ]
  },
  {
   "cell_type": "markdown",
   "metadata": {},
   "source": [
    "Plot illiteracy vs. fertility to see if we can visually spot a correlation."
   ]
  },
  {
   "cell_type": "code",
   "execution_count": 13,
   "metadata": {},
   "outputs": [],
   "source": [
    "import matplotlib.pyplot as plt\n",
    "import seaborn as sns\n",
    "%matplotlib inline\n",
    "\n",
    "# Use this line for presentations\n",
    "#sns.set(context='talk')\n",
    "# Use this line for online view (e.g. GitHub commits)\n",
    "sns.set()"
   ]
  },
  {
   "cell_type": "code",
   "execution_count": 14,
   "metadata": {},
   "outputs": [
    {
     "data": {
      "image/png": "[encoded data removed]",
      "text/plain": [
       "<Figure size 432x288 with 1 Axes>"
      ]
     },
     "metadata": {},
     "output_type": "display_data"
    }
   ],
   "source": [
    "sns.scatterplot(illiteracy, fertility, alpha=0.25);"
   ]
  },
  {
   "cell_type": "markdown",
   "metadata": {},
   "source": [
    "Note the use of `alpha`. In scatter plots, `alpha` allows us to spot clusters of data, like the one on the bottom left."
   ]
  },
  {
   "cell_type": "markdown",
   "metadata": {},
   "source": [
    "We can see a trend in the graph: as illiteracy increases, so does fertility."
   ]
  },
  {
   "cell_type": "markdown",
   "metadata": {},
   "source": [
    "### Calculating the correlation coefficient"
   ]
  },
  {
   "cell_type": "code",
   "execution_count": 15,
   "metadata": {},
   "outputs": [
    {
     "data": {
      "text/plain": [
       "0.8041324026815344"
      ]
     },
     "execution_count": 15,
     "metadata": {},
     "output_type": "execute_result"
    }
   ],
   "source": [
    "import numpy as np\n",
    "\n",
    "empirical_corrcoef = np.corrcoef(illiteracy, fertility)[0, 1]\n",
    "empirical_corrcoef"
   ]
  },
  {
   "cell_type": "markdown",
   "metadata": {},
   "source": [
    "This is the [Pearson correlation coefficient](https://en.wikipedia.org/wiki/Pearson_correlation_coefficient). A value of 1 (one) indicates a perfect positive correlation. The value calculated for our dataset is close to one, indicating a strong positive correlation (see [table 1 here](https://www.ncbi.nlm.nih.gov/pmc/articles/PMC6107969/)).\n",
    "\n",
    "We are calling it the _empirical_ correlation coefficient because it is calculated from the samples collected to create the dataset."
   ]
  },
  {
   "cell_type": "markdown",
   "metadata": {},
   "source": [
    "## 4. Testing the hypothesis"
   ]
  },
  {
   "cell_type": "markdown",
   "metadata": {},
   "source": [
    "So far we have been able to establish that there is a strong positive correlation between illiteracy and fertility.\n",
    "\n",
    "What we don't know yet is if this correlation is only by chance.\n",
    "\n",
    "To verify that, we will perform a [_statistical hypothesis test_](https://en.wikipedia.org/wiki/Statistical_hypothesis_testing). Our null hypothesis is the opposite of the statement we want to verify:\n",
    "\n",
    "> The fertility of a given country is totally independent of its illiteracy."
   ]
  },
  {
   "cell_type": "markdown",
   "metadata": {},
   "source": [
    "To verify the null hypothesis, we will:\n",
    "\n",
    "1. Run a large number of permutations of the illiteracy rates from the dataset, while keeping the fertility rates unchanged. For each permutation, calculate the correlation coefficient.\n",
    "1. Calculate how many of these permutations resulted in a correlation coefficient larger than the correlation coefficient from the original dataset, the empirical correlation coefficient.\n",
    "\n",
    "What we are looking for: \n",
    "\n",
    "- If we find a large number of permutations with correlation coefficients similar to the empirical coefficient, it means the empirical coefficient occurred by chance.\n",
    "- If, on the other hand, we find a very small number of permutations with a correlation coefficient similar to the empirical coefficient, we can reasonably assume that the empirical coefficient did _not_ occur by chance and, therefore, there is a correlation between illiteracy and fertility."
   ]
  },
  {
   "cell_type": "markdown",
   "metadata": {},
   "source": [
    "### Step 1: run a large number of experiments"
   ]
  },
  {
   "cell_type": "code",
   "execution_count": 16,
   "metadata": {},
   "outputs": [
    {
     "name": "stdout",
     "output_type": "stream",
     "text": [
      "CPU times: user 22.9 s, sys: 139 ms, total: 23 s\n",
      "Wall time: 23.4 s\n"
     ]
    }
   ],
   "source": [
    "%%time\n",
    "# This may take a while to run\n",
    "# Print the time to give the readers an idea of how long it will take\n",
    "\n",
    "# To make it reproducible\n",
    "np.random.seed(42)\n",
    "\n",
    "# The number of experiments we will run\n",
    "N = 100_000\n",
    "\n",
    "# Stores the correlation coefficients from each replication (experiment)\n",
    "permutated_corrcoeff = np.empty(N)\n",
    "\n",
    "for i in range(N):\n",
    "    # Generate a permutation of the illiteracy values\n",
    "    permutated = np.random.permutation(illiteracy)\n",
    "    \n",
    "    # Calculate the correlation coefficient between this permutation\n",
    "    # and the countries (always the same list of countries)\n",
    "    permutated_corrcoeff[i] = np.corrcoef(permutated, fertility)[0, 1]"
   ]
  },
  {
   "cell_type": "markdown",
   "metadata": {},
   "source": [
    "### Step 2: calculate how many experiments are above the empirical coefficient"
   ]
  },
  {
   "cell_type": "code",
   "execution_count": 17,
   "metadata": {},
   "outputs": [],
   "source": [
    "experiments_above_empirical = np.sum(permutated_corrcoeff > empirical_corrcoef)"
   ]
  },
  {
   "cell_type": "markdown",
   "metadata": {},
   "source": [
    "### Analyzing the results"
   ]
  },
  {
   "cell_type": "markdown",
   "metadata": {},
   "source": [
    "We will analyze the results in terms of the [p-value](https://en.wikipedia.org/wiki/P-value): the fraction of experiments whose correlation coefficients are greater than the one observed in the dataset (the empirical correlation coefficient)."
   ]
  },
  {
   "cell_type": "code",
   "execution_count": 18,
   "metadata": {},
   "outputs": [],
   "source": [
    "p_value = experiments_above_empirical / N"
   ]
  },
  {
   "cell_type": "code",
   "execution_count": 19,
   "metadata": {},
   "outputs": [
    {
     "name": "stdout",
     "output_type": "stream",
     "text": [
      "The empirical correlation coefficient = 0.8041324026815344\n",
      "The largest experimental correlation coefficient = 0.33804022121150534\n",
      "Out of 100,000 simulations, 0 are > the empirical coefficient\n",
      "p-value = 0.000000\n"
     ]
    }
   ],
   "source": [
    "print('The empirical correlation coefficient = {}'.format(empirical_corrcoef))\n",
    "print('The largest experimental correlation coefficient = {}'.format\n",
    "      (np.max(permutated_corrcoeff)))\n",
    "print('Out of {:,} simulations, {} are > the empirical coefficient'.\\\n",
    "     format(N, experiments_above_empirical))\n",
    "print('p-value = {:f}'.format(p_value))"
   ]
  },
  {
   "cell_type": "markdown",
   "metadata": {},
   "source": [
    "The p-value we calculated is < 10<sup>-5</sup> (We ran only 100,000 of the possible experiments. The number of possible experiments is the number of possible permutations, a very large number. We do not know what would happen if we ran more experiments. Therefore, all we can say is that the p-value is less than the resolution of our experiments, 10<sup>-5</sup>)."
   ]
  },
  {
   "cell_type": "markdown",
   "metadata": {},
   "source": [
    "Given the low p-value, it is unlikely that the null hypothesis is true. Therefore, we reject the null hypothesis and conclude that the relationship between fertility and illiteracy is unlikely to have occurred by chance. In other words, there is indeed a positive correlation between illiteracy and fertility."
   ]
  },
  {
   "cell_type": "markdown",
   "metadata": {},
   "source": [
    "## Summary"
   ]
  },
  {
   "cell_type": "markdown",
   "metadata": {},
   "source": [
    "We simulated illiteracy rates with `np.random.permutation()` to test our hypothesis and found that only a small number of experiments had a correlation coefficient higher than the one we calculated with the dataset (the empirical value). That value is so small that we were not even able to measure it with our experiments (all we can say is that it is less than 10<sup>-5</sup>)."
   ]
  },
  {
   "cell_type": "markdown",
   "metadata": {},
   "source": [
    "To get to that point, we:\n",
    "\n",
    "- Inspected the dataset with `shape`, `columns`, `describe()`, and `info()`\n",
    "- Checked for possible duplicated entries (duplicated countries) with `nunique()`.\n",
    "- Performed a domain check (the suspiciously low literacy rates), to verify if the data make sense. We found out that it matches a reliable source.\n",
    "- To make the code clearer, we split out of the dataset only the pieces of information we need and transformed some pieces of data into a more convenient format (`fertility` and `illiteracy`).\n",
    "- Established that there is a correlation visually (with a scatter plot) and formally (with the [Pearson correlation coefficient](https://en.wikipedia.org/wiki/Pearson_correlation_coefficient)).\n",
    "- Once we confirmed that there is a correlation, we performed a large number of experiments to check if the correlation exists by chance (with `np.random.permutation()`).\n",
    "- To make our experiments reproducible, we set a seed for the pseudorandom generator (`np.random.seed(42)`)."
   ]
  },
  {
   "cell_type": "code",
   "execution_count": null,
   "metadata": {},
   "outputs": [],
   "source": []
  }
 ],
 "metadata": {
  "kernelspec": {
   "display_name": "Python 3",
   "language": "python",
   "name": "python3"
  },
  "language_info": {
   "codemirror_mode": {
    "name": "ipython",
    "version": 3
   },
   "file_extension": ".py",
   "mimetype": "text/x-python",
   "name": "python",
   "nbconvert_exporter": "python",
   "pygments_lexer": "ipython3",
   "version": "3.7.2"
  }
 },
 "nbformat": 4,
 "nbformat_minor": 4
}
