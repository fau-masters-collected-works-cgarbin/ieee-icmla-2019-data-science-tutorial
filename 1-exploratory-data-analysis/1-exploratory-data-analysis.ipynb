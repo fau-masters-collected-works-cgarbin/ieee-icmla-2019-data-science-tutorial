{
 "cells": [
  {
   "cell_type": "markdown",
   "metadata": {},
   "source": [
    "# 1. Exploratory data analysis"
   ]
  },
  {
   "cell_type": "markdown",
   "metadata": {},
   "source": [
    "In exploratory data analysis we want to **understand and trust** our data."
   ]
  },
  {
   "cell_type": "markdown",
   "metadata": {},
   "source": [
    "We will use an example a dataset with salaries from a fictitious company. This dataset comes from $\\color{red}{\\text{TODO: ADD SOURCE HERE}}$.\n",
    "\n",
    "Our objective is to check if there are signs of gender discrimination in the salaries.\n",
    "\n",
    "In this part we explore the dataset in two steps: load the dataset and understand it."
   ]
  },
  {
   "cell_type": "markdown",
   "metadata": {},
   "source": [
    "## Step 1 Load the dataset"
   ]
  },
  {
   "cell_type": "markdown",
   "metadata": {},
   "source": [
    "The dataset is stored in a CSV file.\n",
    "\n",
    "Python has a powerful library for data management and analyis: [Pandas](https://pandas.pydata.org/). We will use from the very beginning, to load the dataset."
   ]
  },
  {
   "cell_type": "code",
   "execution_count": 1,
   "metadata": {},
   "outputs": [],
   "source": [
    "import pandas as pd\n",
    "\n",
    "salaries = pd.read_csv('data/salaries.csv')"
   ]
  },
  {
   "cell_type": "markdown",
   "metadata": {},
   "source": [
    "We now have a [Pandas `DataFrame`](https://pandas.pydata.org/pandas-docs/stable/reference/api/pandas.DataFrame.html) with the dataset."
   ]
  },
  {
   "cell_type": "code",
   "execution_count": 2,
   "metadata": {},
   "outputs": [
    {
     "name": "stdout",
     "output_type": "stream",
     "text": [
      "<class 'pandas.core.frame.DataFrame'>\n"
     ]
    }
   ],
   "source": [
    "print(type(salaries))"
   ]
  },
  {
   "cell_type": "markdown",
   "metadata": {},
   "source": [
    "## Step 2 Understand the data"
   ]
  },
  {
   "cell_type": "markdown",
   "metadata": {},
   "source": [
    "In this step we want to answer a few basic questions about the dataset:\n",
    "\n",
    "1. How many samples does it have?\n",
    "1. What pieces of information does it have and in what format are they stored?\n",
    "1. Does it have incomplete samples (rows missing data)?\n",
    "1. Does each sample make sense, i.e. is consistent with what it is supposed to represent?\n",
    "1. Do we need to transform any piece of data to a more convenient or useful value and format?"
   ]
  },
  {
   "cell_type": "markdown",
   "metadata": {},
   "source": [
    "#### 1. How many samples does it have?"
   ]
  },
  {
   "cell_type": "code",
   "execution_count": 3,
   "metadata": {},
   "outputs": [
    {
     "name": "stdout",
     "output_type": "stream",
     "text": [
      "The dataset has 1,192 rows and 6 columns\n"
     ]
    }
   ],
   "source": [
    "rows, columns = salaries.shape\n",
    "print('The dataset has {:,} rows and {} columns'.format(rows, columns))"
   ]
  },
  {
   "cell_type": "markdown",
   "metadata": {},
   "source": [
    "#### 2. What pieces of information does it have and in what format are they stored?"
   ]
  },
  {
   "cell_type": "markdown",
   "metadata": {},
   "source": [
    "What pieces of information we have:"
   ]
  },
  {
   "cell_type": "code",
   "execution_count": 4,
   "metadata": {},
   "outputs": [
    {
     "name": "stdout",
     "output_type": "stream",
     "text": [
      "Index(['earn', 'height', 'sex', 'ed', 'age', 'race'], dtype='object')\n"
     ]
    }
   ],
   "source": [
    "print(salaries.columns)"
   ]
  },
  {
   "cell_type": "code",
   "execution_count": 5,
   "metadata": {},
   "outputs": [
    {
     "data": {
      "text/html": [
       "<div>\n",
       "<style scoped>\n",
       "    .dataframe tbody tr th:only-of-type {\n",
       "        vertical-align: middle;\n",
       "    }\n",
       "\n",
       "    .dataframe tbody tr th {\n",
       "        vertical-align: top;\n",
       "    }\n",
       "\n",
       "    .dataframe thead th {\n",
       "        text-align: right;\n",
       "    }\n",
       "</style>\n",
       "<table border=\"1\" class=\"dataframe\">\n",
       "  <thead>\n",
       "    <tr style=\"text-align: right;\">\n",
       "      <th></th>\n",
       "      <th>earn</th>\n",
       "      <th>height</th>\n",
       "      <th>sex</th>\n",
       "      <th>ed</th>\n",
       "      <th>age</th>\n",
       "      <th>race</th>\n",
       "    </tr>\n",
       "  </thead>\n",
       "  <tbody>\n",
       "    <tr>\n",
       "      <th>0</th>\n",
       "      <td>50000.0</td>\n",
       "      <td>74.424439</td>\n",
       "      <td>male</td>\n",
       "      <td>16</td>\n",
       "      <td>45</td>\n",
       "      <td>white</td>\n",
       "    </tr>\n",
       "    <tr>\n",
       "      <th>1</th>\n",
       "      <td>60000.0</td>\n",
       "      <td>65.537543</td>\n",
       "      <td>female</td>\n",
       "      <td>16</td>\n",
       "      <td>58</td>\n",
       "      <td>white</td>\n",
       "    </tr>\n",
       "    <tr>\n",
       "      <th>2</th>\n",
       "      <td>30000.0</td>\n",
       "      <td>63.629198</td>\n",
       "      <td>female</td>\n",
       "      <td>16</td>\n",
       "      <td>29</td>\n",
       "      <td>white</td>\n",
       "    </tr>\n",
       "    <tr>\n",
       "      <th>3</th>\n",
       "      <td>50000.0</td>\n",
       "      <td>63.108562</td>\n",
       "      <td>female</td>\n",
       "      <td>16</td>\n",
       "      <td>91</td>\n",
       "      <td>other</td>\n",
       "    </tr>\n",
       "    <tr>\n",
       "      <th>4</th>\n",
       "      <td>51000.0</td>\n",
       "      <td>63.402484</td>\n",
       "      <td>female</td>\n",
       "      <td>17</td>\n",
       "      <td>39</td>\n",
       "      <td>white</td>\n",
       "    </tr>\n",
       "  </tbody>\n",
       "</table>\n",
       "</div>"
      ],
      "text/plain": [
       "      earn     height     sex  ed  age   race\n",
       "0  50000.0  74.424439    male  16   45  white\n",
       "1  60000.0  65.537543  female  16   58  white\n",
       "2  30000.0  63.629198  female  16   29  white\n",
       "3  50000.0  63.108562  female  16   91  other\n",
       "4  51000.0  63.402484  female  17   39  white"
      ]
     },
     "metadata": {},
     "output_type": "display_data"
    }
   ],
   "source": [
    "display(salaries.head())"
   ]
  },
  {
   "cell_type": "markdown",
   "metadata": {},
   "source": [
    "Most datasets come with a description of each column. In the absence of that information, we can infer what the columns represent from their names and their values.\n",
    "\n",
    "- `earn` is the annual salary.\n",
    "- `height` is the height in inches, but the number of digits indicates that it was converted from the metric system. We will adjust this later.\n",
    "- `sex` is a categorical value. We will check this later.\n",
    "- `ed` is the number of education years, although it's unclear how these years were counted.\n",
    "- `age` is the complete number of years of age.\n",
    "- `race` is a categorical value. We will also check this later."
   ]
  },
  {
   "cell_type": "markdown",
   "metadata": {},
   "source": [
    "The format of each column:"
   ]
  },
  {
   "cell_type": "code",
   "execution_count": 6,
   "metadata": {},
   "outputs": [
    {
     "name": "stdout",
     "output_type": "stream",
     "text": [
      "earn      float64\n",
      "height    float64\n",
      "sex        object\n",
      "ed          int64\n",
      "age         int64\n",
      "race       object\n",
      "dtype: object\n"
     ]
    }
   ],
   "source": [
    "print(salaries.dtypes)"
   ]
  },
  {
   "cell_type": "markdown",
   "metadata": {},
   "source": [
    "The format seems to match the pieces of information. All numerical values are already stored as numbers (`float64`) and all categorical values are stored as string (`object`)."
   ]
  },
  {
   "cell_type": "markdown",
   "metadata": {},
   "source": [
    "#### 3. Does it have incomplete samples (rows missing data)?"
   ]
  },
  {
   "cell_type": "markdown",
   "metadata": {},
   "source": [
    "The definition of _incomplete_ varies by data type:\n",
    "\n",
    "- Floating point numbers: represented with the special value [NumPy.NaN](https://numpy.org/devdocs/reference/constants.html#numpy.NAN).\n",
    "- Integers and strings: they don't have a special value to represent missing values. They may be enconded with the Python constant [None](https://docs.python.org/3/library/constants.html#None), or with a value out of the expected range, e.g. `-1` for a missing integer value or a zero-length string (`''`) for strings."
   ]
  },
  {
   "cell_type": "markdown",
   "metadata": {},
   "source": [
    "Let's start by checking if any column has `NaN` or `None`."
   ]
  },
  {
   "cell_type": "code",
   "execution_count": 7,
   "metadata": {},
   "outputs": [
    {
     "name": "stdout",
     "output_type": "stream",
     "text": [
      "earn      0\n",
      "height    0\n",
      "sex       0\n",
      "ed        0\n",
      "age       0\n",
      "race      0\n",
      "dtype: int64\n"
     ]
    }
   ],
   "source": [
    "print(salaries.isnull().sum())"
   ]
  },
  {
   "cell_type": "markdown",
   "metadata": {},
   "source": [
    "Breaking this down in steps: first we use `isnull)` to check if there is any value, anywhere that is set to `NaN` or `None`. This returns a matrix of `True` (is `NaN` or `None`) or `False` (has a value)."
   ]
  },
  {
   "cell_type": "code",
   "execution_count": 8,
   "metadata": {},
   "outputs": [
    {
     "name": "stdout",
     "output_type": "stream",
     "text": [
      "       earn  height    sex     ed    age   race\n",
      "0     False   False  False  False  False  False\n",
      "1     False   False  False  False  False  False\n",
      "2     False   False  False  False  False  False\n",
      "3     False   False  False  False  False  False\n",
      "4     False   False  False  False  False  False\n",
      "...     ...     ...    ...    ...    ...    ...\n",
      "1187  False   False  False  False  False  False\n",
      "1188  False   False  False  False  False  False\n",
      "1189  False   False  False  False  False  False\n",
      "1190  False   False  False  False  False  False\n",
      "1191  False   False  False  False  False  False\n",
      "\n",
      "[1192 rows x 6 columns]\n"
     ]
    }
   ],
   "source": [
    "print(salaries.isnull())"
   ]
  },
  {
   "cell_type": "markdown",
   "metadata": {},
   "source": [
    "Because `False` is represented as zero and `True` is represented as one, we do not need to check every cell of the matrix. We can add them up (by column) and check if any of them is greater than zero."
   ]
  },
  {
   "cell_type": "code",
   "execution_count": 9,
   "metadata": {},
   "outputs": [
    {
     "name": "stdout",
     "output_type": "stream",
     "text": [
      "earn      0\n",
      "height    0\n",
      "sex       0\n",
      "ed        0\n",
      "age       0\n",
      "race      0\n",
      "dtype: int64\n"
     ]
    }
   ],
   "source": [
    "print(salaries.isnull().sum())"
   ]
  },
  {
   "cell_type": "markdown",
   "metadata": {},
   "source": [
    "This shows that the dataset does not have incomplete data flagged as `NaN` or `None`. We still need to check if values out fof range were used to represent missing integers (e.g. `-1` to indicate unknown age or education level) and if zero-length strings were used to represent missing categorical data (e.g. `''` to indicate unknown sex or rage). We will cover these when we analyze the individual columns later."
   ]
  },
  {
   "cell_type": "markdown",
   "metadata": {},
   "source": [
    "At this point we have reasonable confidence that we have a complete dataset. It is enough for a quick check at the stage we are in (exploratory data analysys). To understand more about missing data and how to deal with them, see this Pandas [Pandas comprehensive article on intricacies of missing data](https://pandas.pydata.org/pandas-docs/stable/user_guide/missing_data.html)."
   ]
  },
  {
   "cell_type": "markdown",
   "metadata": {},
   "source": [
    "#### 4. Does each sample make sense, i.e. is consistent with what it is supposed to represent?"
   ]
  },
  {
   "cell_type": "markdown",
   "metadata": {},
   "source": [
    "The next step is to check if the samples are consistent with the data they are supposed to represent. \n",
    "\n",
    "We are looking for values that do not make sense, for example someone with 150 years of age, or one year of education, or race equals to 'United States'. These inconsistencies can trickle in at the different stages of data collection: filling out the wrong value in a form, or incorrectly coding a value."
   ]
  },
  {
   "cell_type": "markdown",
   "metadata": {},
   "source": [
    "We will start with an overview of the numerical values using [`describe()`](https://pandas.pydata.org/pandas-docs/stable/reference/api/pandas.DataFrame.describe.html). It shows the summary statistics for all columns that are either a float or an integer. We will review the categorical columns (`sex` and `race`) later."
   ]
  },
  {
   "cell_type": "code",
   "execution_count": 10,
   "metadata": {},
   "outputs": [
    {
     "data": {
      "text/html": [
       "<div>\n",
       "<style scoped>\n",
       "    .dataframe tbody tr th:only-of-type {\n",
       "        vertical-align: middle;\n",
       "    }\n",
       "\n",
       "    .dataframe tbody tr th {\n",
       "        vertical-align: top;\n",
       "    }\n",
       "\n",
       "    .dataframe thead th {\n",
       "        text-align: right;\n",
       "    }\n",
       "</style>\n",
       "<table border=\"1\" class=\"dataframe\">\n",
       "  <thead>\n",
       "    <tr style=\"text-align: right;\">\n",
       "      <th></th>\n",
       "      <th>earn</th>\n",
       "      <th>height</th>\n",
       "      <th>ed</th>\n",
       "      <th>age</th>\n",
       "    </tr>\n",
       "  </thead>\n",
       "  <tbody>\n",
       "    <tr>\n",
       "      <th>count</th>\n",
       "      <td>1192.000000</td>\n",
       "      <td>1192.000000</td>\n",
       "      <td>1192.000000</td>\n",
       "      <td>1192.000000</td>\n",
       "    </tr>\n",
       "    <tr>\n",
       "      <th>mean</th>\n",
       "      <td>23154.773490</td>\n",
       "      <td>66.915154</td>\n",
       "      <td>13.504195</td>\n",
       "      <td>41.378356</td>\n",
       "    </tr>\n",
       "    <tr>\n",
       "      <th>std</th>\n",
       "      <td>19472.296925</td>\n",
       "      <td>3.853968</td>\n",
       "      <td>2.420175</td>\n",
       "      <td>15.867428</td>\n",
       "    </tr>\n",
       "    <tr>\n",
       "      <th>min</th>\n",
       "      <td>200.000000</td>\n",
       "      <td>57.503219</td>\n",
       "      <td>3.000000</td>\n",
       "      <td>18.000000</td>\n",
       "    </tr>\n",
       "    <tr>\n",
       "      <th>25%</th>\n",
       "      <td>10000.000000</td>\n",
       "      <td>64.009746</td>\n",
       "      <td>12.000000</td>\n",
       "      <td>29.000000</td>\n",
       "    </tr>\n",
       "    <tr>\n",
       "      <th>50%</th>\n",
       "      <td>20000.000000</td>\n",
       "      <td>66.451265</td>\n",
       "      <td>13.000000</td>\n",
       "      <td>38.000000</td>\n",
       "    </tr>\n",
       "    <tr>\n",
       "      <th>75%</th>\n",
       "      <td>30000.000000</td>\n",
       "      <td>69.848100</td>\n",
       "      <td>16.000000</td>\n",
       "      <td>51.000000</td>\n",
       "    </tr>\n",
       "    <tr>\n",
       "      <th>max</th>\n",
       "      <td>200000.000000</td>\n",
       "      <td>77.051282</td>\n",
       "      <td>18.000000</td>\n",
       "      <td>91.000000</td>\n",
       "    </tr>\n",
       "  </tbody>\n",
       "</table>\n",
       "</div>"
      ],
      "text/plain": [
       "                earn       height           ed          age\n",
       "count    1192.000000  1192.000000  1192.000000  1192.000000\n",
       "mean    23154.773490    66.915154    13.504195    41.378356\n",
       "std     19472.296925     3.853968     2.420175    15.867428\n",
       "min       200.000000    57.503219     3.000000    18.000000\n",
       "25%     10000.000000    64.009746    12.000000    29.000000\n",
       "50%     20000.000000    66.451265    13.000000    38.000000\n",
       "75%     30000.000000    69.848100    16.000000    51.000000\n",
       "max    200000.000000    77.051282    18.000000    91.000000"
      ]
     },
     "execution_count": 10,
     "metadata": {},
     "output_type": "execute_result"
    }
   ],
   "source": [
    "salaries.describe()"
   ]
  },
  {
   "cell_type": "markdown",
   "metadata": {},
   "source": [
    "From the summary statistics, we can observe a few things:\n",
    "\n",
    "- `earn`: the minimum salary seems low for annual salaries. It may be an error, or it may indicate the column is not _contracted salary_, but perhaps _paid salary_ (someone joined the company recently, or stayed with the company for a short time).\n",
    "- `height`: seems consistent with an adult population.\n",
    "- `ed`: the minimum value (three years of education) may indicate errors in those samples.\n",
    "- `age`: the maximum value is high, although not unrealistic."
   ]
  },
  {
   "cell_type": "markdown",
   "metadata": {},
   "source": [
    "Some of the observations indicate that we may need to clean up the dataset before using it. We will do that in a later section."
   ]
  },
  {
   "cell_type": "markdown",
   "metadata": {},
   "source": [
    "Now we will check the columns with categorial data, `sex` and `race`. As part of that, we will also complete the incosistency check started in the previous section."
   ]
  },
  {
   "cell_type": "markdown",
   "metadata": {},
   "source": [
    "Starting with the `sex` column: let's check the unique values used for it."
   ]
  },
  {
   "cell_type": "code",
   "execution_count": 11,
   "metadata": {},
   "outputs": [
    {
     "name": "stdout",
     "output_type": "stream",
     "text": [
      "['male' 'female']\n"
     ]
    }
   ],
   "source": [
    "print(salaries['sex'].unique())"
   ]
  },
  {
   "cell_type": "markdown",
   "metadata": {},
   "source": [
    "This seems correct and also shows it does not have incomplete data (zero-length strings)."
   ]
  },
  {
   "cell_type": "markdown",
   "metadata": {},
   "source": [
    "The same for the `race` column."
   ]
  },
  {
   "cell_type": "code",
   "execution_count": 12,
   "metadata": {},
   "outputs": [
    {
     "name": "stdout",
     "output_type": "stream",
     "text": [
      "['white' 'other' 'hispanic' 'black']\n"
     ]
    }
   ],
   "source": [
    "print(salaries['race'].unique())"
   ]
  },
  {
   "cell_type": "markdown",
   "metadata": {},
   "source": [
    "It also looks reasonable for the data it represents and does not have incomplete data."
   ]
  },
  {
   "cell_type": "markdown",
   "metadata": {},
   "source": [
    "#### 5. Do we need to transform any piece of data to a more convenient or useful value and format?"
   ]
  },
  {
   "cell_type": "markdown",
   "metadata": {},
   "source": [
    "The `height` column has an unusual format, with a very large precision. It looks like it was converted from the metric system. We will change it to a more natural format by rounding to one decimal digit."
   ]
  },
  {
   "cell_type": "code",
   "execution_count": 13,
   "metadata": {},
   "outputs": [],
   "source": [
    "salaries.height = salaries.height.round(1)"
   ]
  },
  {
   "cell_type": "markdown",
   "metadata": {},
   "source": [
    "$\\color{red}{\\text{NOTE TO OGE}}$: I switched the syntax to refer to the column on purpose. I won't spend time explaining it, just wante to show it."
   ]
  },
  {
   "cell_type": "code",
   "execution_count": 14,
   "metadata": {},
   "outputs": [
    {
     "data": {
      "text/html": [
       "<div>\n",
       "<style scoped>\n",
       "    .dataframe tbody tr th:only-of-type {\n",
       "        vertical-align: middle;\n",
       "    }\n",
       "\n",
       "    .dataframe tbody tr th {\n",
       "        vertical-align: top;\n",
       "    }\n",
       "\n",
       "    .dataframe thead th {\n",
       "        text-align: right;\n",
       "    }\n",
       "</style>\n",
       "<table border=\"1\" class=\"dataframe\">\n",
       "  <thead>\n",
       "    <tr style=\"text-align: right;\">\n",
       "      <th></th>\n",
       "      <th>earn</th>\n",
       "      <th>height</th>\n",
       "      <th>sex</th>\n",
       "      <th>ed</th>\n",
       "      <th>age</th>\n",
       "      <th>race</th>\n",
       "    </tr>\n",
       "  </thead>\n",
       "  <tbody>\n",
       "    <tr>\n",
       "      <th>0</th>\n",
       "      <td>50000.0</td>\n",
       "      <td>74.4</td>\n",
       "      <td>male</td>\n",
       "      <td>16</td>\n",
       "      <td>45</td>\n",
       "      <td>white</td>\n",
       "    </tr>\n",
       "    <tr>\n",
       "      <th>1</th>\n",
       "      <td>60000.0</td>\n",
       "      <td>65.5</td>\n",
       "      <td>female</td>\n",
       "      <td>16</td>\n",
       "      <td>58</td>\n",
       "      <td>white</td>\n",
       "    </tr>\n",
       "    <tr>\n",
       "      <th>2</th>\n",
       "      <td>30000.0</td>\n",
       "      <td>63.6</td>\n",
       "      <td>female</td>\n",
       "      <td>16</td>\n",
       "      <td>29</td>\n",
       "      <td>white</td>\n",
       "    </tr>\n",
       "    <tr>\n",
       "      <th>3</th>\n",
       "      <td>50000.0</td>\n",
       "      <td>63.1</td>\n",
       "      <td>female</td>\n",
       "      <td>16</td>\n",
       "      <td>91</td>\n",
       "      <td>other</td>\n",
       "    </tr>\n",
       "    <tr>\n",
       "      <th>4</th>\n",
       "      <td>51000.0</td>\n",
       "      <td>63.4</td>\n",
       "      <td>female</td>\n",
       "      <td>17</td>\n",
       "      <td>39</td>\n",
       "      <td>white</td>\n",
       "    </tr>\n",
       "  </tbody>\n",
       "</table>\n",
       "</div>"
      ],
      "text/plain": [
       "      earn  height     sex  ed  age   race\n",
       "0  50000.0    74.4    male  16   45  white\n",
       "1  60000.0    65.5  female  16   58  white\n",
       "2  30000.0    63.6  female  16   29  white\n",
       "3  50000.0    63.1  female  16   91  other\n",
       "4  51000.0    63.4  female  17   39  white"
      ]
     },
     "metadata": {},
     "output_type": "display_data"
    }
   ],
   "source": [
    "display(salaries.head())"
   ]
  },
  {
   "cell_type": "markdown",
   "metadata": {},
   "source": [
    "A quick check to make sure we did not make any silly mistake in the conversion."
   ]
  },
  {
   "cell_type": "code",
   "execution_count": 15,
   "metadata": {},
   "outputs": [
    {
     "name": "stdout",
     "output_type": "stream",
     "text": [
      "count    1192.000000\n",
      "mean       66.914597\n",
      "std         3.853698\n",
      "min        57.500000\n",
      "25%        64.000000\n",
      "50%        66.450000\n",
      "75%        69.825000\n",
      "max        77.100000\n",
      "Name: height, dtype: float64\n"
     ]
    }
   ],
   "source": [
    "print(salaries.height.describe())"
   ]
  },
  {
   "cell_type": "markdown",
   "metadata": {},
   "source": [
    "It still matches the values we saw in the previoous section."
   ]
  },
  {
   "cell_type": "code",
   "execution_count": null,
   "metadata": {},
   "outputs": [],
   "source": []
  }
 ],
 "metadata": {
  "kernelspec": {
   "display_name": "Python 3",
   "language": "python",
   "name": "python3"
  },
  "language_info": {
   "codemirror_mode": {
    "name": "ipython",
    "version": 3
   },
   "file_extension": ".py",
   "mimetype": "text/x-python",
   "name": "python",
   "nbconvert_exporter": "python",
   "pygments_lexer": "ipython3",
   "version": "3.7.2"
  }
 },
 "nbformat": 4,
 "nbformat_minor": 4
}
